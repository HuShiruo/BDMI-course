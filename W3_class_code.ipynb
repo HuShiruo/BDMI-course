{
 "cells": [
  {
   "cell_type": "markdown",
   "metadata": {},
   "source": [
    "## 一些课程记录\n",
    "\n",
    "主要文件的IO模式"
   ]
  },
  {
   "cell_type": "code",
   "execution_count": 9,
   "metadata": {},
   "outputs": [
    {
     "name": "stdout",
     "output_type": "stream",
     "text": [
      "current file: E:\\大四\\0大四上课程\\大数据与机器智能\\第三周\\file_io.ipynb\n",
      "current directory: E:\\大四\\0大四上课程\\大数据与机器智能\\第三周\n",
      "data directory: E:\\大四\\0大四上课程\\大数据与机器智能\\第三周\n"
     ]
    }
   ],
   "source": [
    "import os\n",
    "\n",
    "current_file = os.path.realpath('file_io.ipynb')  \n",
    "print('current file: {}'.format(current_file))\n",
    "# Note: in .py files you can get the path of current file by __file__\n",
    "\n",
    "current_dir = os.path.dirname(current_file)  \n",
    "print('current directory: {}'.format(current_dir))\n",
    "# Note: in .py files you can get the dir of current file by os.path.dirname(__file__)\n",
    "\n",
    "data_dir = os.path.join(os.path.dirname(current_dir), '第三周')\n",
    "print('data directory: {}'.format(data_dir))"
   ]
  },
  {
   "cell_type": "code",
   "execution_count": 10,
   "metadata": {},
   "outputs": [
    {
     "name": "stdout",
     "output_type": "stream",
     "text": [
      "exists: True\n",
      "is file: False\n",
      "is directory: True\n"
     ]
    }
   ],
   "source": [
    "print('exists: {}'.format(os.path.exists(data_dir)))\n",
    "print('is file: {}'.format(os.path.isfile(data_dir)))\n",
    "print('is directory: {}'.format(os.path.isdir(data_dir)))"
   ]
  },
  {
   "cell_type": "code",
   "execution_count": 11,
   "metadata": {},
   "outputs": [
    {
     "name": "stdout",
     "output_type": "stream",
     "text": [
      "BDMI\n"
     ]
    }
   ],
   "source": [
    "file_path = os.path.join(data_dir, 'simple_file.txt')\n",
    "\n",
    "with open(file_path, 'r') as simple_file:\n",
    "    for line in simple_file:\n",
    "        print(line.strip())"
   ]
  },
  {
   "cell_type": "code",
   "execution_count": 20,
   "metadata": {},
   "outputs": [],
   "source": [
    "new_file_path = os.path.join(data_dir, 'new_file.txt')\n",
    "\n",
    "with open(new_file_path, 'w') as my_file:\n",
    "    my_file.write('张曦航是土木系的小美女')"
   ]
  },
  {
   "cell_type": "code",
   "execution_count": 21,
   "metadata": {},
   "outputs": [],
   "source": [
    "with open(new_file_path, 'a+') as my_file:\n",
    "    my_file.write('\\n斯诺是住在曦航隔壁的小笨蛋')"
   ]
  },
  {
   "cell_type": "code",
   "execution_count": 22,
   "metadata": {},
   "outputs": [
    {
     "name": "stdout",
     "output_type": "stream",
     "text": [
      "[57, 31, 20, 34, 39, 84, 96, 42, 45, 50, 89, 26, 17, 52, 28, 1, 51, 67, 41, 4]\n"
     ]
    }
   ],
   "source": [
    "import random\n",
    "A=[]\n",
    "while(len(A)<20):\n",
    "    x=random.randint(0,100)\n",
    "    if x not in A:\n",
    "        A.append(x)\n",
    "print(A)"
   ]
  },
  {
   "cell_type": "code",
   "execution_count": 29,
   "metadata": {},
   "outputs": [],
   "source": [
    "import numpy as np\n",
    "random_path = os.path.join(data_dir, 'random_data.txt')\n",
    "np.savetxt(random_path, A, fmt = \"%d\", delimiter = \",\")"
   ]
  },
  {
   "cell_type": "code",
   "execution_count": 30,
   "metadata": {},
   "outputs": [],
   "source": [
    "from tkinter import *"
   ]
  },
  {
   "cell_type": "code",
   "execution_count": 51,
   "metadata": {},
   "outputs": [],
   "source": [
    "def click():\n",
    "    string = textbox1.get( )\n",
    "    a = int(string[0])\n",
    "    b = int(string[2])\n",
    "    c = a+b\n",
    "    message = c\n",
    "    textbox2[\"bg\"] = \"white\"\n",
    "    textbox2[\"fg\"] = \"black\"\n",
    "    textbox2[\"text\"] = message"
   ]
  },
  {
   "cell_type": "code",
   "execution_count": 52,
   "metadata": {},
   "outputs": [],
   "source": [
    "window = Tk()\n",
    "window.geometry(\"500x200\")\n",
    "label1 = Label(text=\"Enter two numbers:\")\n",
    "label1.place(x=30, y=20)\n",
    "textbox1 = Entry(text=\"\")\n",
    "textbox1.place(x=150, y=20, width=200, height=25)\n",
    "textbox1['justify'] = 'center'\n",
    "textbox1.focus()\n",
    "\n",
    "button1 = Button(text='calculate', command=click)\n",
    "button1.place(x=30, y=50, width=120, height=25)\n",
    "\n",
    "textbox2 = Message(text=\"\")\n",
    "textbox2.place(x=150, y=50, width=200, height=50)\n",
    "textbox2[\"bg\"] = \"white\"\n",
    "textbox2[\"fg\"] = \"black\"\n",
    "window.mainloop()"
   ]
  },
  {
   "cell_type": "code",
   "execution_count": 34,
   "metadata": {},
   "outputs": [
    {
     "name": "stdout",
     "output_type": "stream",
     "text": [
      "[2, 5, 9, 12, 16, 18, 1, 3, 7, 8, 10, 11, 13, 14, 17, 20, 25]\n"
     ]
    }
   ],
   "source": [
    "B1 = [2,5,9,12,16,18]\n",
    "B2 = [1,3,7,8,10,11,13,14,17,20,25]\n",
    "i = 0\n",
    "j = 0\n",
    "C = []\n",
    "while(i<len(B1)&j<len(B2)):\n",
    "    if B1[i] < B2[j]:\n",
    "        C.append(B1[i])\n",
    "        i+=1\n",
    "    else:\n",
    "        C.append(B2[j])\n",
    "        j+=1\n",
    "while(i < len(B1)):\n",
    "    C.append(B1[i])\n",
    "    i+=1\n",
    "while(j < len(B2)):\n",
    "    C.append(B2[j])\n",
    "    j+=1\n",
    "print(C)"
   ]
  },
  {
   "cell_type": "code",
   "execution_count": null,
   "metadata": {},
   "outputs": [],
   "source": []
  }
 ],
 "metadata": {
  "kernelspec": {
   "display_name": "Python 3",
   "language": "python",
   "name": "python3"
  },
  "language_info": {
   "codemirror_mode": {
    "name": "ipython",
    "version": 3
   },
   "file_extension": ".py",
   "mimetype": "text/x-python",
   "name": "python",
   "nbconvert_exporter": "python",
   "pygments_lexer": "ipython3",
   "version": "3.6.7"
  }
 },
 "nbformat": 4,
 "nbformat_minor": 2
}
