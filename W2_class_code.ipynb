{
 "cells": [
  {
   "cell_type": "code",
   "execution_count": 1,
   "metadata": {},
   "outputs": [
    {
     "name": "stdout",
     "output_type": "stream",
     "text": [
      "Python will be my favorite language\n"
     ]
    }
   ],
   "source": [
    "my_string='Python is my favorite language'\n",
    "my_new_string = my_string.replace('is','will be')\n",
    "print(my_new_string)"
   ]
  },
  {
   "cell_type": "code",
   "execution_count": 2,
   "metadata": {},
   "outputs": [
    {
     "name": "stdout",
     "output_type": "stream",
     "text": [
      "[0, 1, 2, 3, 4, 5, 6, 7, 8]\n"
     ]
    }
   ],
   "source": [
    "init_a_list = [i for i in range(9)]\n",
    "print(init_a_list)"
   ]
  },
  {
   "cell_type": "code",
   "execution_count": 3,
   "metadata": {},
   "outputs": [
    {
     "name": "stdout",
     "output_type": "stream",
     "text": [
      "{'xihang': '18810273818', 'sunny_xue': '18234526789', 'snow_ruo': '18810275818'}\n"
     ]
    }
   ],
   "source": [
    "phone_num = {'xihang':'18810273818','sunny_xue':'18234526789','snow_ruo':'18810275818'}\n",
    "print(phone_num)"
   ]
  },
  {
   "cell_type": "code",
   "execution_count": 4,
   "metadata": {},
   "outputs": [
    {
     "name": "stdout",
     "output_type": "stream",
     "text": [
      "100>val>10\n"
     ]
    }
   ],
   "source": [
    "val = 50\n",
    "if val >= 100:\n",
    "    print('val>=100')\n",
    "elif val > 10:\n",
    "    print('100>val>10')\n",
    "else:\n",
    "    print('val<=10')"
   ]
  },
  {
   "cell_type": "code",
   "execution_count": 10,
   "metadata": {},
   "outputs": [
    {
     "name": "stdout",
     "output_type": "stream",
     "text": [
      "0\n",
      "1\n",
      "2\n",
      "3\n",
      "4\n"
     ]
    }
   ],
   "source": [
    "for num in range(5):\n",
    "    print(num)"
   ]
  },
  {
   "cell_type": "code",
   "execution_count": 9,
   "metadata": {},
   "outputs": [
    {
     "name": "stdout",
     "output_type": "stream",
     "text": [
      "[1, 4, 9, 16, 25]\n"
     ]
    }
   ],
   "source": [
    "a_list = [1,2,3,4,5]\n",
    "squared_list = [0,0,0,0,0]\n",
    "for i in range(5):\n",
    "    squared_list[i] = a_list[i]**2\n",
    "print(squared_list)"
   ]
  },
  {
   "cell_type": "code",
   "execution_count": 14,
   "metadata": {},
   "outputs": [
    {
     "name": "stdout",
     "output_type": "stream",
     "text": [
      "[1, 4, 9, 16, 25]\n"
     ]
    }
   ],
   "source": [
    "a_list = [1,2,3,4,5]\n",
    "squared_list = []\n",
    "for i in range(5):\n",
    "    squared_list.append(a_list[i]**2)\n",
    "print(squared_list)"
   ]
  },
  {
   "cell_type": "code",
   "execution_count": 19,
   "metadata": {},
   "outputs": [
    {
     "name": "stdout",
     "output_type": "stream",
     "text": [
      "black 2\n"
     ]
    }
   ],
   "source": [
    "class cat:\n",
    "   \n",
    "    def __init__(self,color,jump):\n",
    "        self.color = color\n",
    "        self.jump = jump\n",
    "        \n",
    "black_cat = cat('black',2)\n",
    "print(black_cat.color,black_cat.jump)"
   ]
  },
  {
   "cell_type": "code",
   "execution_count": null,
   "metadata": {},
   "outputs": [],
   "source": [
    "#求解一元二次方程\n",
    "import math\n",
    "def solve_equ(b,c):\n",
    "    val1 = b/2.0\n",
    "    val2 = vall**2\n",
    "    val3 = val2 + c\n",
    "    val4 = math.sprt(val3)\n",
    "    root1 = val4 - val1\n",
    "    root2 = -val4 - val1\n",
    "    return root1, root2"
   ]
  },
  {
   "cell_type": "code",
   "execution_count": 21,
   "metadata": {},
   "outputs": [],
   "source": [
    "import random\n",
    "import math\n",
    "\n",
    "\n",
    "def draw(inner_points,outer_points):\n",
    "    import matplotlib.pyplot as plt\n",
    "    fig, ax = plt.subplots(figsize=(5, 5))\n",
    "    inner_x = [x[0] for x in inner_points]\n",
    "    inner_y = [x[1] for x in inner_points]\n",
    "    outer_x = [x[0] for x in outer_points]\n",
    "    outer_y = [x[1] for x in outer_points]\n",
    "    ax.scatter(inner_x, inner_y, color=\"r\",s=1)\n",
    "    ax.scatter(outer_x, outer_y, color=\"g\",s=1)\n",
    "\n",
    "    ax.set_xlim(0, 1)\n",
    "    ax.set_ylim(0, 1)\n",
    "\n",
    "    import numpy as np\n",
    "    theta = np.linspace(0, 2*np.pi, 100)\n",
    "    r = 1\n",
    "    x1 = r*np.cos(theta)\n",
    "    x2 = r*np.sin(theta)\n",
    "    ax.plot(x1, x2,color='black')\n",
    "    plt.show()\n",
    "\n",
    "def MonPi(number):\n",
    "    N2 = number\n",
    "    N1 = 0.\n",
    "    inner_points = []\n",
    "    outer_points = []\n",
    "    for i in range(N2):\n",
    "        x = random.random()\n",
    "        y = random.random()\n",
    "        if x*x+y*y<=1:\n",
    "            N1+=1\n",
    "            inner_points.append([x,y])\n",
    "        else:\n",
    "            outer_points.append([x,y])\n",
    "    \n",
    "    print(\"Monte PI:\",4*N1/N2)\n",
    "    draw(inner_points,outer_points)\n",
    "\n",
    "def TaylorPi(k):\n",
    "    sum,odd = 0,True\n",
    "    for i in range(1,k):\n",
    "        sum += 1/(2*i-1) if odd==True else -1/(2*i-1)\n",
    "        odd = not odd\n",
    "    print(\"Taylor PI:\",sum*4)\n",
    "    \n",
    "def Ch_cal(k):\n",
    "    uper_value = math.factorial(6*k)*(13591409+545140134*k)\n",
    "    lower_value = math.factorial(3*k)*math.pow(math.factorial(k),3)*math.pow((-640320),3*k)\n",
    "    return uper_value/lower_value\n",
    "\n",
    "def Chudnovsky(number):\n",
    "    uper_value = 426880*math.sqrt(10005)\n",
    "    lower_sum = 0.\n",
    "    for k in range(number):\n",
    "        lower_sum+=Ch_cal(k)\n",
    "    print(\"Chudnovsky PI:\",uper_value/lower_sum)\n",
    "\n",
    "    \n",
    "def Iterative_cal(number):\n",
    "    a_now = 1.\n",
    "    b_now = 1./math.sqrt(2)\n",
    "    t_now = .25\n",
    "    p_now = 1.\n",
    "    for i in range(number):\n",
    "        a = (a_now+b_now)/2\n",
    "        b = math.sqrt(a_now*b_now)\n",
    "        t = t_now-p_now*math.pow((a_now-a),2)\n",
    "        p = 2*p_now\n",
    "\n",
    "        a_now = a\n",
    "        b_now = b\n",
    "        t_now = t\n",
    "        p_now = p\n",
    "    print(\"Iterative PI:\",math.pow(a_now+b_now,2)/(4*t_now))"
   ]
  },
  {
   "cell_type": "code",
   "execution_count": 24,
   "metadata": {},
   "outputs": [
    {
     "name": "stdout",
     "output_type": "stream",
     "text": [
      "Taylor PI: 3.142593654340044\n"
     ]
    }
   ],
   "source": [
    "TaylorPi(1000)"
   ]
  },
  {
   "cell_type": "code",
   "execution_count": 25,
   "metadata": {},
   "outputs": [],
   "source": [
    "import matplotlib\n",
    "import matplotlib.pyplot as plt\n",
    "import numpy as np"
   ]
  },
  {
   "cell_type": "code",
   "execution_count": 26,
   "metadata": {},
   "outputs": [],
   "source": [
    "# Data for plotting\n",
    "t = np.arange(0.0, 2.0, 0.01)\n",
    "s = 1 + np.sin(2 * np.pi * t)"
   ]
  },
  {
   "cell_type": "code",
   "execution_count": 28,
   "metadata": {},
   "outputs": [
    {
     "data": {
      "image/png": "[encoded data removed]",
      "text/plain": [
       "<Figure size 432x288 with 1 Axes>"
      ]
     },
     "metadata": {
      "needs_background": "light"
     },
     "output_type": "display_data"
    }
   ],
   "source": [
    "fig, ax = plt.subplots()\n",
    "ax.plot(t, s)\n",
    "ax.set(xlabel='time (s)', ylabel='voltage (mV)', \n",
    "           title='Voltage / Time')\n",
    "ax.grid()\n",
    "fig.savefig(\"test.png\")\n",
    "plt.show()"
   ]
  },
  {
   "cell_type": "code",
   "execution_count": 29,
   "metadata": {},
   "outputs": [
    {
     "data": {
      "image/png": "[encoded data removed]",
      "text/plain": [
       "<Figure size 432x288 with 2 Axes>"
      ]
     },
     "metadata": {
      "needs_background": "light"
     },
     "output_type": "display_data"
    }
   ],
   "source": [
    "x = np.arange(0,3 * np.pi,0.1)\n",
    "y_sin = np.sin(x)\n",
    "y_cos = np.cos(x)\n",
    "plt.subplot(2,1,1)\n",
    "plt.plot(x, y_sin)\n",
    "plt.title('Sine')\n",
    "plt.subplot(2,1,2)\n",
    "plt.plot(x, y_cos)\n",
    "plt.title('Cosine')\n",
    "plt.show()"
   ]
  },
  {
   "cell_type": "code",
   "execution_count": null,
   "metadata": {},
   "outputs": [],
   "source": []
  }
 ],
 "metadata": {
  "kernelspec": {
   "display_name": "Python 3",
   "language": "python",
   "name": "python3"
  },
  "language_info": {
   "codemirror_mode": {
    "name": "ipython",
    "version": 3
   },
   "file_extension": ".py",
   "mimetype": "text/x-python",
   "name": "python",
   "nbconvert_exporter": "python",
   "pygments_lexer": "ipython3",
   "version": "3.6.7"
  }
 },
 "nbformat": 4,
 "nbformat_minor": 2
}
